{
 "cells": [
  {
   "cell_type": "code",
   "execution_count": 10,
   "metadata": {},
   "outputs": [
    {
     "name": "stdout",
     "output_type": "stream",
     "text": [
      "Waqar\n",
      "Hassan\n",
      "19\n",
      "Karachi \n",
      "\n",
      "\n",
      "first_name:\n",
      "waqar\n",
      "last_name:\n",
      "hassan\n",
      "age:\n",
      "19\n",
      "city:\n",
      "karachi \n"
     ]
    }
   ],
   "source": [
    "#try It yourself 6-1. Person: \n",
    "\n",
    "person = {'first_name':'waqar','last_name':'hassan','age':'19','city':'karachi '}\n",
    "\n",
    "print(person['first_name'].title())\n",
    "print(person['last_name'].title())\n",
    "print(person['age'])\n",
    "print(person['city'].title())\n",
    "print(\"\\n\")\n",
    "\n",
    "#or you can loop through this\n",
    "\n",
    "person = {'first_name':'waqar','last_name':'hassan','age':'19','city':'karachi '}\n",
    "for key, value in person.items():\n",
    "    print(key+\":\"+'\\n'+value)"
   ]
  },
  {
   "cell_type": "code",
   "execution_count": 28,
   "metadata": {},
   "outputs": [
    {
     "name": "stdout",
     "output_type": "stream",
     "text": [
      "Ali's favorite number is :\n",
      "3\n",
      "Abdullah's favorite number is :\n",
      "6\n",
      "Waqar's favorite number is :\n",
      "4\n",
      "Fahad's favorite number is :\n",
      "7\n"
     ]
    }
   ],
   "source": [
    "#try It yourself 6-2. Favorite Numbers:\n",
    "\n",
    "favorite_numbers = {'ali': 3,'abdullah': 6,'waqar': 4,'fahad': 7}\n",
    "\n",
    "for key, value in favorite_numbers.items():\n",
    "    print(key.title() +\"'s favorite number is :\\n\"+str(value))"
   ]
  },
  {
   "cell_type": "code",
   "execution_count": 27,
   "metadata": {},
   "outputs": [
    {
     "name": "stdout",
     "output_type": "stream",
     "text": [
      "\n",
      "Variable :\n",
      "can hold data\n",
      "\n",
      "String :\n",
      "series of character\n",
      "\n",
      "List :\n",
      "can store collection of items\n",
      "\n",
      "Tuple :\n",
      "immutable ,tuple can not ulter\n",
      "\n",
      "Dictionary :\n",
      "is a key,value pair\n"
     ]
    }
   ],
   "source": [
    "#try It yourself 6-3. Glossary:\n",
    "\n",
    "glossary = {'variable': 'can hold data',\n",
    "            'string' :  'series of character',\n",
    "            'list': 'can store collection of items',\n",
    "            'tuple': 'immutable ,tuple can not ulter', \n",
    "            'dictionary':'is a key,value pair',\n",
    "           }\n",
    "\n",
    "for key, value in glossary.items():\n",
    "    print('\\n'+key.title()+\" :\\n\"+value)"
   ]
  },
  {
   "cell_type": "code",
   "execution_count": 25,
   "metadata": {},
   "outputs": [
    {
     "name": "stdout",
     "output_type": "stream",
     "text": [
      "\n",
      "Variable : Can hold data.\n",
      "\n",
      "String : A series of characters.\n",
      "\n",
      "List : A collection of items in a particular order.\n",
      "\n",
      "Tuple : Immutable ,tuple can not ulter.\n",
      "\n",
      "Dictionary : A collection of key-value pairs.\n",
      "\n",
      "Function : A block of code to be executed.\n",
      "\n",
      "Print : Its a function to print.\n",
      "\n",
      "If-Else : Selection statement.\n",
      "\n",
      "Loop : Work through a collection of items, one at a time.\n",
      "\n",
      "Replace : Function to replace values.\n"
     ]
    }
   ],
   "source": [
    "#try It yourself 6-4. Glossary 2: \n",
    "\n",
    "glossary = {'variable': 'Can hold data.',\n",
    "            'string' :  'A series of characters.',\n",
    "            'list': 'A collection of items in a particular order.',\n",
    "            'tuple': 'Immutable ,tuple can not ulter.', \n",
    "            'dictionary':'A collection of key-value pairs.',\n",
    "            'function':'A block of code to be executed.',\n",
    "            'print':'Its a function to print.',\n",
    "            'if-else':'Selection statement.',\n",
    "            'loop':'Work through a collection of items, one at a time.',\n",
    "            'replace':'Function to replace values.'\n",
    "           }\n",
    "\n",
    "for key, value in glossary.items():\n",
    "    print('\\n'+key.title()+\" : \"+value)"
   ]
  },
  {
   "cell_type": "code",
   "execution_count": 28,
   "metadata": {},
   "outputs": [
    {
     "name": "stdout",
     "output_type": "stream",
     "text": [
      "\n",
      "Nile runs through Egypt.\n",
      "\n",
      "River Indus runs through Sindh.\n",
      "\n",
      "River Chanab runs through Panjab.\n",
      "\n",
      "\n",
      "The following are the rivers.\n",
      "- Nile\n",
      "- River Indus\n",
      "- River Chanab\n",
      "\n",
      "\n",
      "The following are the countries.\n",
      "- Egypt\n",
      "- Sindh\n",
      "- Panjab\n"
     ]
    }
   ],
   "source": [
    "#try It yourself 6-5. Rivers:\n",
    "\n",
    "rivers = {'nile': 'egypt','river indus': 'sindh','river chanab': 'panjab'}\n",
    "    \n",
    "for river, country in rivers.items():\n",
    "     print('\\n'+river.title()+\" runs through \"+country.title()+\".\")\n",
    "        \n",
    "print(\"\\n\") \n",
    "print('The following are the rivers.')\n",
    "for river in rivers.keys():\n",
    "     print('- '+river.title())\n",
    "\n",
    "print(\"\\n\") \n",
    "print('The following are the countries.')\n",
    "for country in rivers.values():\n",
    "     print('- '+country.title())\n",
    "        "
   ]
  },
  {
   "cell_type": "code",
   "execution_count": 30,
   "metadata": {},
   "outputs": [
    {
     "name": "stdout",
     "output_type": "stream",
     "text": [
      "Thank you Phil for taking the poll.\n",
      "John please take a poll.\n",
      "Thank you Sarah for taking the poll.\n",
      "Christopher please take a poll.\n"
     ]
    }
   ],
   "source": [
    "# try It yourself 6-6. Polling:\n",
    "\n",
    "favorite_languages = { 'jen': 'python',\n",
    "                          'sarah': 'c',\n",
    "                      'edward': 'ruby',\n",
    "                      'phil': 'python',\n",
    "                    }\n",
    "peoples = ['phil','john','sarah','christopher']\n",
    "\n",
    "for people in peoples:\n",
    "    \n",
    "    if people in favorite_languages:\n",
    "        print('Thank you '+people.title() +' for taking the poll.')\n",
    "    \n",
    "    else:\n",
    "        print(people.title()+' please take a poll.')"
   ]
  },
  {
   "cell_type": "code",
   "execution_count": 9,
   "metadata": {},
   "outputs": [
    {
     "name": "stdout",
     "output_type": "stream",
     "text": [
      "Waqar Hassan is 19 years old and he lives in Karachi .\n",
      "Ali Ahmed is 10 years old and he lives in Lahore .\n",
      "Abdullah Munir is 8 years old and he lives in Islamabad .\n"
     ]
    }
   ],
   "source": [
    "#try It yourself 6-7. People:\n",
    "\n",
    "person_0 = {'first_name':'waqar','last_name':'hassan','age':'19','city':'karachi '}\n",
    "person_1 = {'first_name':'ali','last_name':'ahmed','age':'10','city':'lahore '}\n",
    "person_2 = {'first_name':'abdullah','last_name':'munir','age':'8','city':'islamabad '}\n",
    "\n",
    "people = [person_0, person_1, person_2 ]\n",
    "for person in people:\n",
    "    \n",
    "    name = person['first_name']+ \" \"+person['last_name']\n",
    "    age = str(person['age'])\n",
    "    city = person['city']\n",
    "    \n",
    "    print(name.title()+\" is \"+age+\" years old and he lives in \"+city.title()+\".\")"
   ]
  },
  {
   "cell_type": "code",
   "execution_count": 24,
   "metadata": {},
   "outputs": [
    {
     "name": "stdout",
     "output_type": "stream",
     "text": [
      "The owner and pet are following:\n",
      " \n",
      "Kind : Dog\n",
      "\n",
      "Owner : Wikram\n",
      "\n",
      "Kind : Cat\n",
      "\n",
      "Owner : Teena\n",
      "\n",
      "Kind : Parrot\n",
      "\n",
      "Owner : Sam\n",
      "\n"
     ]
    }
   ],
   "source": [
    "#try It yourself 6-8. Pets:\n",
    "\n",
    "jimmy = {'kind':'dog', 'owner':'wikram'}\n",
    "mano = {'kind':'cat', 'owner':'teena'}\n",
    "mina = {'kind':'parrot', 'owner':'sam'}\n",
    "\n",
    "pets = [jimmy, mano, mina]\n",
    "\n",
    "print('The owner and pet are following:\\n ')\n",
    "    \n",
    "for pet in pets:\n",
    "     for key, value in pet.items():\n",
    "        print(key.title()+\" : \" +value.title()+'\\n')"
   ]
  },
  {
   "cell_type": "code",
   "execution_count": 34,
   "metadata": {},
   "outputs": [
    {
     "name": "stdout",
     "output_type": "stream",
     "text": [
      "\n",
      "Ali's favorite places are: \n",
      "\n",
      "-China\n",
      "-Miami\n",
      "-Russia\n",
      "\n",
      "Fahad's favorite places are: \n",
      "\n",
      "-Brazil\n",
      "-Germany\n",
      "-Colombia\n",
      "\n",
      "Waqar's favorite places are: \n",
      "\n",
      "-Singapore\n",
      "-Thailand\n",
      "-Spain\n"
     ]
    }
   ],
   "source": [
    "#try It yourself 6 - 7. People:\n",
    "\n",
    "favorite_places = {'ali': ['china','Miami','russia'], \n",
    "                   'fahad': ['brazil','germany','colombia'],\n",
    "                   'waqar': ['singapore','thailand','spain'] \n",
    "                  }\n",
    "\n",
    "for name, places in favorite_places.items():\n",
    "    print('\\n'+name.title()+\"'s favorite places are: \\n\")\n",
    "    \n",
    "    for place in places:\n",
    "        print(\"-\"+place.title())\n"
   ]
  },
  {
   "cell_type": "code",
   "execution_count": 33,
   "metadata": {},
   "outputs": [
    {
     "name": "stdout",
     "output_type": "stream",
     "text": [
      "Ali's favorite numbers are :\n",
      "\n",
      "3\n",
      "4\n",
      "Abdullah's favorite numbers are :\n",
      "\n",
      "2\n",
      "6\n",
      "Waqar's favorite numbers are :\n",
      "\n",
      "7\n",
      "4\n",
      "Fahad's favorite numbers are :\n",
      "\n",
      "5\n",
      "8\n"
     ]
    }
   ],
   "source": [
    "##try It yourself  6-10. Favorite Numbers\n",
    "\n",
    "favorite_numbers = {'ali': [3,4],'abdullah':[2, 6],'waqar': [7,4],'fahad': [5,8]}\n",
    "\n",
    "for name, numbers in favorite_numbers.items():\n",
    "    print(name.title() +\"'s favorite numbers are :\\n\")\n",
    "    \n",
    "    for number in numbers:\n",
    "        print(str(number))"
   ]
  },
  {
   "cell_type": "code",
   "execution_count": 35,
   "metadata": {},
   "outputs": [
    {
     "name": "stdout",
     "output_type": "stream",
     "text": [
      "\n",
      "City: Karachi\n",
      "\tCountry: Pakistan\n",
      "\tPopulation: 1800000\n",
      "\tFact: Is The World'S Largest Producer Of Handsewn Footballs.\n",
      "\n",
      "City: Dehli\n",
      "\tCountry: India\n",
      "\tPopulation: 13240000\n",
      "\tFact: India Is The Largest Democracy In The World.\n",
      "\n",
      "City: Riyadh\n",
      "\tCountry: Saudi Arabia\n",
      "\tPopulation: 32280000\n",
      "\tFact: Saudi Arabia Is The Largest Country In The World Without A River.\n"
     ]
    }
   ],
   "source": [
    "#try It yourself 6 -11. Cities:\n",
    "\n",
    "cities = {'karachi':{'country':'pakistan','population':1800000,'fact':\"is the world's largest producer of handsewn footballs.\"},\n",
    "                     'dehli':{'country':'india','population':13240000,'fact':\"India is the largest democracy in the world.\"},\n",
    "                    'riyadh':{'country':'saudi arabia','population':32280000 ,'fact':\"Saudi Arabia is the largest country in the world without a river.\"}\n",
    "                    }\n",
    "\n",
    "for city , city_info in cities.items():\n",
    "    \n",
    "    print(\"\\nCity: \"+city.title())\n",
    "    country = city_info['country']\n",
    "    population = city_info['population']\n",
    "    fact = city_info['fact']\n",
    "    \n",
    "    print(\"\\tCountry: \" + country.title())\n",
    "    print(\"\\tPopulation: \" +str(population))\n",
    "    print(\"\\tFact: \" + fact.title())\n",
    "\n",
    "                              "
   ]
  },
  {
   "cell_type": "code",
   "execution_count": null,
   "metadata": {
    "collapsed": true
   },
   "outputs": [],
   "source": []
  }
 ],
 "metadata": {
  "kernelspec": {
   "display_name": "Python 3",
   "language": "python",
   "name": "python3"
  },
  "language_info": {
   "codemirror_mode": {
    "name": "ipython",
    "version": 3
   },
   "file_extension": ".py",
   "mimetype": "text/x-python",
   "name": "python",
   "nbconvert_exporter": "python",
   "pygments_lexer": "ipython3",
   "version": "3.6.1"
  }
 },
 "nbformat": 4,
 "nbformat_minor": 2
}
